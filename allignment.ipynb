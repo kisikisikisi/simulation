{
 "cells": [
  {
   "cell_type": "code",
   "execution_count": 84,
   "metadata": {},
   "outputs": [
    {
     "name": "stdout",
     "output_type": "stream",
     "text": [
      "https://m-bc.jp/2019/07/anacondatowin10/\n",
      "1041\n",
      "1041t\n"
     ]
    }
   ],
   "source": [
    "import random\n",
    "import json\n",
    "json_open = open(\"C:/Users/bi17030/Documents/researchub/navigation/history/historyk.json\",mode=\"r\",encoding='utf8')\n",
    "json_load = json.load(json_open)\n",
    "target = str(round(random.uniform(1000,1342)))+\"t\"\n",
    "for i in range(len(json_load)):\n",
    "    if json_load[i][\"id\"] == target[:-1]:\n",
    "        print(json_load[i][\"url\"])\n",
    "        print(target[:-1])\n",
    "        break    \n",
    "print(target)#1193"
   ]
  },
  {
   "cell_type": "code",
   "execution_count": 85,
   "metadata": {},
   "outputs": [],
   "source": [
    "with open(\"C:/Users/bi17030/Documents/Research/actr6/actr6/distr-model/param/img-dm.lisp\",mode=\"w\",encoding='utf8') as f2:\n",
    "    f.read\n",
    "\n",
    "with open(\"C:/Users/bi17030/Documents/Research/actr6/actr6/distr-model/param/tmp/img-dm-ori.lisp\",mode=\"r\",encoding='utf8') as f:\n",
    "    with open(\"C:/Users/bi17030/Documents/Research/actr6/actr6/distr-model/param/img-dm.lisp\",mode=\"a\",encoding='utf8') as f2:\n",
    "        ls = []\n",
    "        for line in f.readlines():\n",
    "            if not target in line:\n",
    "                f2.write(line)"
   ]
  },
  {
   "cell_type": "code",
   "execution_count": 86,
   "metadata": {},
   "outputs": [],
   "source": [
    "with open(\"C:/Users/bi17030/Documents/Research/actr6/actr6/distr-model/param/img-param.lisp\",mode=\"w\",encoding='utf8') as f2:\n",
    "    f.read\n",
    "\n",
    "with open(\"C:/Users/bi17030/Documents/Research/actr6/actr6/distr-model/param/tmp/img-param-ori.lisp\",mode=\"r\",encoding='utf8') as f:\n",
    "    with open(\"C:/Users/bi17030/Documents/Research/actr6/actr6/distr-model/param/img-param.lisp\",mode=\"a\",encoding='utf8') as f2:\n",
    "        ls = []\n",
    "        for line in f.readlines():\n",
    "            if not target in line:\n",
    "                f2.write(line)"
   ]
  },
  {
   "cell_type": "code",
   "execution_count": 45,
   "metadata": {},
   "outputs": [
    {
     "name": "stdout",
     "output_type": "stream",
     "text": [
      "先進的学習科学\n"
     ]
    }
   ],
   "source": [
    "print(b'\\xe5\\x85\\x88\\xe9\\x80\\xb2\\xe7\\x9a\\x84\\xe5\\xad\\xa6\\xe7\\xbf\\x92\\xe7\\xa7\\x91\\xe5\\xad\\xa6'.decode('utf8'))"
   ]
  }
 ],
 "metadata": {
  "kernelspec": {
   "display_name": "Python 3",
   "language": "python",
   "name": "python3"
  },
  "language_info": {
   "codemirror_mode": {
    "name": "ipython",
    "version": 3
   },
   "file_extension": ".py",
   "mimetype": "text/x-python",
   "name": "python",
   "nbconvert_exporter": "python",
   "pygments_lexer": "ipython3",
   "version": "3.5.5"
  },
  "toc": {
   "base_numbering": 1,
   "nav_menu": {},
   "number_sections": true,
   "sideBar": true,
   "skip_h1_title": false,
   "title_cell": "Table of Contents",
   "title_sidebar": "Contents",
   "toc_cell": false,
   "toc_position": {},
   "toc_section_display": true,
   "toc_window_display": false
  }
 },
 "nbformat": 4,
 "nbformat_minor": 2
}
